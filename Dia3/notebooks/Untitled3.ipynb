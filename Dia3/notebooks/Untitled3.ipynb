{
 "cells": [
  {
   "cell_type": "code",
   "execution_count": 2,
   "metadata": {
    "collapsed": false
   },
   "outputs": [
    {
     "data": {
      "text/plain": [
       "Result(id=0, result=None, error=None)"
      ]
     },
     "execution_count": 2,
     "metadata": {},
     "output_type": "execute_result"
    }
   ],
   "source": [
    "import android\n",
    "import json\n",
    "import time\n",
    "import random\n",
    "\n",
    "droid = android.Android()\n",
    "droid.ttsSpeak('aqui estoy')"
   ]
  },
  {
   "cell_type": "code",
   "execution_count": 3,
   "metadata": {
    "collapsed": false
   },
   "outputs": [
    {
     "name": "stdout",
     "output_type": "stream",
     "text": [
      "1448135980845\n",
      "V\n",
      "move 725\n",
      "V\n",
      "V\n",
      "V\n",
      "V\n",
      "move 966\n",
      "V\n",
      "V\n",
      "V\n",
      "V\n",
      "V\n",
      "V\n",
      "V\n",
      "move 779\n",
      "V\n",
      "move 995\n"
     ]
    },
    {
     "ename": "KeyboardInterrupt",
     "evalue": "",
     "output_type": "error",
     "traceback": [
      "\u001b[1;31m---------------------------------------------------------------------------\u001b[0m",
      "\u001b[1;31mKeyboardInterrupt\u001b[0m                         Traceback (most recent call last)",
      "\u001b[1;32m<ipython-input-3-ffedba8bc906>\u001b[0m in \u001b[0;36m<module>\u001b[1;34m()\u001b[0m\n\u001b[0;32m     60\u001b[0m             \u001b[0msendSMS\u001b[0m\u001b[1;33m(\u001b[0m\u001b[1;33m)\u001b[0m\u001b[1;33m\u001b[0m\u001b[0m\n\u001b[0;32m     61\u001b[0m             \u001b[1;31m#break\u001b[0m\u001b[1;33m\u001b[0m\u001b[1;33m\u001b[0m\u001b[0m\n\u001b[1;32m---> 62\u001b[1;33m             \u001b[0mtime\u001b[0m\u001b[1;33m.\u001b[0m\u001b[0msleep\u001b[0m\u001b[1;33m(\u001b[0m\u001b[1;36m10\u001b[0m\u001b[1;33m)\u001b[0m\u001b[1;33m\u001b[0m\u001b[0m\n\u001b[0m\u001b[0;32m     63\u001b[0m             \u001b[0mcounterdetect\u001b[0m \u001b[1;33m=\u001b[0m \u001b[1;36m0\u001b[0m\u001b[1;33m\u001b[0m\u001b[0m\n\u001b[0;32m     64\u001b[0m         \u001b[1;32melse\u001b[0m\u001b[1;33m:\u001b[0m\u001b[1;33m\u001b[0m\u001b[0m\n",
      "\u001b[1;31mKeyboardInterrupt\u001b[0m: "
     ]
    }
   ],
   "source": [
    "#!adb forward tcp:9999 tcp:47048\n",
    "\n",
    "\n",
    "\n",
    "lastcheck = int(round(time.time() * 1000))\n",
    "print lastcheck\n",
    "vecino1 = droid.dialogGetInput('Detector', 'Introduce cual es el telefono del que esperas avisos, si eres el primer telefono en la linea de vigilancia deja la casilla vacia').result\n",
    "vecino2 = droid.dialogGetInput('Detector', 'Introduce cual es el telefono al que vas a notificar').result\n",
    "if not vecino1:\n",
    "    modo = 'V' #Vigilante desde el principio detecta movimiento\n",
    "else:\n",
    "    modo = 'D' #Esta a la espera del sms para iniciar la detección\n",
    "print modo\n",
    "mensaje = \"Move detected wake up...\"\n",
    "\n",
    "def sendSMS():\n",
    "    droid.smsSend(vecino2,mensaje)\n",
    "\n",
    "def detectMove():\n",
    "    ##Codigo de detección de movimiento\n",
    "    ##Debe devolver un booleano True o False\n",
    "    mov = random.randint(0, 999)\n",
    "    if mov > 700:\n",
    "        print 'move',mov\n",
    "        return True\n",
    "    return False\n",
    "\n",
    "def scanSMSs(lastcheck):\n",
    "    #Detecta si recibe alguna notificacion\n",
    "    msgs = droid.smsGetMessages(False, 'inbox')\n",
    "    #print msgs[1]\n",
    "    m = str(msgs[1])\n",
    "    m = m.replace('\\\\','-').replace('\"','<').replace(\"u'\",'\"').replace(\"'\",'\"')\n",
    "    #print m\n",
    "    d = json.loads(m)\n",
    "    #print d\n",
    "    count = 1\n",
    "    startwatch = False\n",
    "    for msg in d:\n",
    "        #m = str(msg)\n",
    "        #m = m.replace('\"','<').replace(\"u'\",'\"').replace(\"'\",'\"')\n",
    "        #d = json.loads(m)\n",
    "        #print d\n",
    "        if long(msg['date']) > lastcheck and msg['address'] == vecino1 and mensaje in str(msg['body']):\n",
    "            print \"Start watch...\"\n",
    "            startwatch = True\n",
    "            lastcheck = int(round(time.time() * 1000))\n",
    "            droid.smsDeleteMessage(msg['_id'])\n",
    "            break;\n",
    "        count += 1\n",
    "    print count\n",
    "    if not startwatch:\n",
    "        print \"Go to sleep\"\n",
    "    return startwatch\n",
    "\n",
    "counterdetect = 0\n",
    "while(True):\n",
    "    if modo == 'V':\n",
    "        if detectMove():\n",
    "            sendSMS()\n",
    "            #break\n",
    "            time.sleep(10)\n",
    "            counterdetect = 0\n",
    "        else:\n",
    "            counterdetect += 1\n",
    "    else:\n",
    "        if scanSMSs(lastcheck):\n",
    "            modo = 'V'\n",
    "            counterdetect = 0\n",
    "            \n",
    "    if counterdetect > 10 and vecino1:\n",
    "        modo = 'D'\n",
    "    print modo\n",
    "    time.sleep(1)\n",
    "print \"Program finish\""
   ]
  },
  {
   "cell_type": "code",
   "execution_count": null,
   "metadata": {
    "collapsed": true
   },
   "outputs": [],
   "source": []
  }
 ],
 "metadata": {
  "kernelspec": {
   "display_name": "Python 2",
   "language": "python",
   "name": "python2"
  },
  "language_info": {
   "codemirror_mode": {
    "name": "ipython",
    "version": 2
   },
   "file_extension": ".py",
   "mimetype": "text/x-python",
   "name": "python",
   "nbconvert_exporter": "python",
   "pygments_lexer": "ipython2",
   "version": "2.7.10"
  }
 },
 "nbformat": 4,
 "nbformat_minor": 0
}

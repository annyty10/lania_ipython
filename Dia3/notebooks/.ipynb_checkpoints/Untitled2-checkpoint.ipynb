{
 "cells": [
  {
   "cell_type": "code",
   "execution_count": 68,
   "metadata": {
    "collapsed": false
   },
   "outputs": [],
   "source": [
    "!adb forward tcp:9999 tcp:34972"
   ]
  },
  {
   "cell_type": "code",
   "execution_count": 69,
   "metadata": {
    "collapsed": false
   },
   "outputs": [],
   "source": [
    "#Importar el módulo android\n",
    "import android\n",
    "import sys, os\n",
    "#Importar sleep\n",
    "from time import sleep\n",
    "#Se crea la instancia del objeto android\n",
    "droid=android.Android()\n"
   ]
  },
  {
   "cell_type": "code",
   "execution_count": 72,
   "metadata": {
    "collapsed": false
   },
   "outputs": [
    {
     "data": {
      "text/plain": [
       "Result(id=14, result=None, error=None)"
      ]
     },
     "execution_count": 72,
     "metadata": {},
     "output_type": "execute_result"
    }
   ],
   "source": [
    "droid.ttsSpeak(\"aqui estoy\")"
   ]
  },
  {
   "cell_type": "code",
   "execution_count": 73,
   "metadata": {
    "collapsed": false
   },
   "outputs": [
    {
     "name": "stdout",
     "output_type": "stream",
     "text": [
      " Iluminacion: 19\n",
      "Hubo movimiento\n",
      "Hecho sin errores...\n"
     ]
    }
   ],
   "source": [
    "droid.startSensingTimed(4,25)\n",
    "droid.ttsSpeak(\"Empezando deteccion de luz\")\n",
    "counter = 0\n",
    "counter2 = 0\n",
    "counter3 = 0\n",
    "while counter == 0:\n",
    "    luz = droid.sensorsGetLight()\n",
    "    infoIluminacion = \" Iluminacion: %s\" %luz[1]\n",
    "    print infoIluminacion\n",
    "    if luz[1]<28:\n",
    "        droid.ttsSpeak(\"Hubo movimiento\")\n",
    "        print 'Hubo movimiento'\n",
    "        counter+=1\n",
    "        droid.stopSensing()\n",
    "        \n",
    "        droid.ttsSpeak('Tomando foto')\n",
    "\n",
    "        while counter2 <= 5:\n",
    "            droid.cameraCapturePicture('/sdcard/DCIM/CAMERA/SENSOR/foto_'+str(counter2)+'.jpg',1,1)\n",
    "            counter2 +=1\n",
    "                    \n",
    "        print 'Hecho sin errores...'\n",
    "\n",
    "        droid.ttsSpeak('Terminado sin errores...')\n",
    "        os.system('!adb pull /sdcard/DCIM/CAMERA/SENSOR/ ./')\n",
    "        \n",
    "        droid.ttsSpeak('Empezando comparacion')\n",
    "        counter3 = 1\n",
    "        pic = os.path.join('.','foto_original.jpg')\n",
    "        img = cv2.imread(pic, 0)\n",
    "        \n",
    "        while counter3 <= 5:\n",
    "\n",
    "            #compara imagenes\n",
    "            pic2 = os.path.join('.','foto_'+str(counter3) +'.jpg')\n",
    "            img2 = cv2.imread(pic2, 0)\n",
    "\n",
    "            compare_images(img,img2,'titulo')\n",
    "            valor = mse(img,img2)\n",
    "            if valor>1000 :\n",
    "                print 'hubo movimiento'\n",
    "                droid.ttsSpeak('hubo movimiento')\n",
    "            counter3 +=1\n",
    "    "
   ]
  },
  {
   "cell_type": "code",
   "execution_count": 74,
   "metadata": {
    "collapsed": false
   },
   "outputs": [
    {
     "data": {
      "text/plain": [
       "Result(id=28, result={u'takePicture': True, u'autoFocus': True, u'cameraId': 1}, error=None)"
      ]
     },
     "execution_count": 74,
     "metadata": {},
     "output_type": "execute_result"
    }
   ],
   "source": [
    " droid.cameraCapturePicture('/sdcard/DCIM/CAMERA/SENSOR/foto_original.jpg',1,1)\n"
   ]
  },
  {
   "cell_type": "code",
   "execution_count": 75,
   "metadata": {
    "collapsed": false
   },
   "outputs": [
    {
     "name": "stderr",
     "output_type": "stream",
     "text": [
      "pull: building file list...\n",
      "pull: /sdcard/DCIM/CAMERA/SENSOR/foto_10.jpg -> ./foto_10.jpg\n",
      "pull: /sdcard/DCIM/CAMERA/SENSOR/foto_9.jpg -> ./foto_9.jpg\n",
      "pull: /sdcard/DCIM/CAMERA/SENSOR/foto_0.jpg -> ./foto_0.jpg\n",
      "pull: /sdcard/DCIM/CAMERA/SENSOR/foto_8.jpg -> ./foto_8.jpg\n",
      "pull: /sdcard/DCIM/CAMERA/SENSOR/foto_7.jpg -> ./foto_7.jpg\n",
      "pull: /sdcard/DCIM/CAMERA/SENSOR/foto.jpg -> ./foto.jpg\n",
      "pull: /sdcard/DCIM/CAMERA/SENSOR/foto_original.jpg -> ./foto_original.jpg\n",
      "pull: /sdcard/DCIM/CAMERA/SENSOR/foto_6.jpg -> ./foto_6.jpg\n",
      "pull: /sdcard/DCIM/CAMERA/SENSOR/foto_5.jpg -> ./foto_5.jpg\n",
      "pull: /sdcard/DCIM/CAMERA/SENSOR/foto_4.jpg -> ./foto_4.jpg\n",
      "pull: /sdcard/DCIM/CAMERA/SENSOR/foto_3.jpg -> ./foto_3.jpg\n",
      "pull: /sdcard/DCIM/CAMERA/SENSOR/foto_2.jpg -> ./foto_2.jpg\n",
      "pull: /sdcard/DCIM/CAMERA/SENSOR/foto_1.jpg -> ./foto_1.jpg\n",
      "13 files pulled. 0 files skipped.\n",
      "3978 KB/s (12102079 bytes in 2.970s)\n"
     ]
    }
   ],
   "source": [
    "!adb pull /sdcard/DCIM/CAMERA/SENSOR/ ./"
   ]
  },
  {
   "cell_type": "code",
   "execution_count": 62,
   "metadata": {
    "collapsed": false
   },
   "outputs": [],
   "source": [
    "del droid"
   ]
  },
  {
   "cell_type": "code",
   "execution_count": 38,
   "metadata": {
    "collapsed": true
   },
   "outputs": [],
   "source": [
    "\n",
    "infoIluminacion = \"Iluminacion: %s\" %luz[1]"
   ]
  },
  {
   "cell_type": "code",
   "execution_count": 16,
   "metadata": {
    "collapsed": false
   },
   "outputs": [
    {
     "name": "stdout",
     "output_type": "stream",
     "text": [
      "Iluminacion: 41\n"
     ]
    }
   ],
   "source": [
    "print infoIluminacion"
   ]
  },
  {
   "cell_type": "code",
   "execution_count": 48,
   "metadata": {
    "collapsed": false
   },
   "outputs": [
    {
     "data": {
      "text/plain": [
       "Result(id=6284, result=None, error=None)"
      ]
     },
     "execution_count": 48,
     "metadata": {},
     "output_type": "execute_result"
    }
   ],
   "source": [
    "droid.stopSensing()"
   ]
  },
  {
   "cell_type": "code",
   "execution_count": null,
   "metadata": {
    "collapsed": true
   },
   "outputs": [],
   "source": []
  }
 ],
 "metadata": {
  "kernelspec": {
   "display_name": "Python 2",
   "language": "python",
   "name": "python2"
  },
  "language_info": {
   "codemirror_mode": {
    "name": "ipython",
    "version": 2
   },
   "file_extension": ".py",
   "mimetype": "text/x-python",
   "name": "python",
   "nbconvert_exporter": "python",
   "pygments_lexer": "ipython2",
   "version": "2.7.10"
  }
 },
 "nbformat": 4,
 "nbformat_minor": 0
}

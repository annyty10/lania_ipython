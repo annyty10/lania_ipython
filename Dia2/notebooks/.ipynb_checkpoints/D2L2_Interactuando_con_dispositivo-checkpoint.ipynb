{
 "cells": [
  {
   "cell_type": "markdown",
   "metadata": {},
   "source": [
    "# Dia 2, Libreta 2 Interactuando con el dispositivo\n",
    "\n",
    "A continuacion haremos algunas pruebas elementales de itneraccion con el dispositivo.\n",
    "\n",
    "## Copiar y pegar. Prueba del clipboard\n",
    "Los dispositivos moviles contienen un \"clipboard\", el cual, igual que el de una computadora moderna, guarda la informacion y permite operaciones de copiado/pegado.\n",
    "\n"
   ]
  },
  {
   "cell_type": "code",
   "execution_count": 6,
   "metadata": {
    "collapsed": false
   },
   "outputs": [
    {
     "data": {
      "text/plain": [
       "['',\n",
       " 'C:\\\\Users\\\\Anny\\\\Anaconda\\\\python27.zip',\n",
       " 'C:\\\\Users\\\\Anny\\\\Anaconda\\\\DLLs',\n",
       " 'C:\\\\Users\\\\Anny\\\\Anaconda\\\\lib',\n",
       " 'C:\\\\Users\\\\Anny\\\\Anaconda\\\\lib\\\\plat-win',\n",
       " 'C:\\\\Users\\\\Anny\\\\Anaconda\\\\lib\\\\lib-tk',\n",
       " 'C:\\\\Users\\\\Anny\\\\Anaconda',\n",
       " 'C:\\\\Users\\\\Anny\\\\Anaconda\\\\lib\\\\site-packages',\n",
       " 'C:\\\\Users\\\\Anny\\\\Anaconda\\\\lib\\\\site-packages\\\\Sphinx-1.3.1-py2.7.egg',\n",
       " 'C:\\\\Users\\\\Anny\\\\Anaconda\\\\lib\\\\site-packages\\\\cryptography-0.9.1-py2.7-win-amd64.egg',\n",
       " 'C:\\\\Users\\\\Anny\\\\Anaconda\\\\lib\\\\site-packages\\\\win32',\n",
       " 'C:\\\\Users\\\\Anny\\\\Anaconda\\\\lib\\\\site-packages\\\\win32\\\\lib',\n",
       " 'C:\\\\Users\\\\Anny\\\\Anaconda\\\\lib\\\\site-packages\\\\Pythonwin',\n",
       " 'C:\\\\Users\\\\Anny\\\\Anaconda\\\\lib\\\\site-packages\\\\setuptools-17.1.1-py2.7.egg',\n",
       " 'C:\\\\Users\\\\Anny\\\\Anaconda\\\\lib\\\\site-packages\\\\IPython\\\\extensions']"
      ]
     },
     "execution_count": 6,
     "metadata": {},
     "output_type": "execute_result"
    }
   ],
   "source": [
    "import os\n",
    "os.sys.path"
   ]
  },
  {
   "cell_type": "code",
   "execution_count": 7,
   "metadata": {
    "collapsed": false
   },
   "outputs": [],
   "source": [
    "import android\n",
    "droide=android.Android()"
   ]
  },
  {
   "cell_type": "code",
   "execution_count": 8,
   "metadata": {
    "collapsed": false
   },
   "outputs": [
    {
     "name": "stdout",
     "output_type": "stream",
     "text": [
      "Result(id=0, result=u'ANITA LAVA LA TINA', error=None)\n"
     ]
    }
   ],
   "source": [
    "print droide.getClipboard()"
   ]
  },
  {
   "cell_type": "code",
   "execution_count": 21,
   "metadata": {
    "collapsed": false
   },
   "outputs": [
    {
     "data": {
      "text/plain": [
       "Result(id=15, result=None, error=None)"
      ]
     },
     "execution_count": 21,
     "metadata": {},
     "output_type": "execute_result"
    }
   ],
   "source": [
    "droide.ttsSpeak(\"Hola droide, \\\n",
    "esta en una prueba de tu clipboard\")"
   ]
  },
  {
   "cell_type": "markdown",
   "metadata": {},
   "source": [
    "Antes de cerrar el dialogo que aparece al ejecutar la siguiente instruccion, copien el texto que escriben en el cuadro de texto:"
   ]
  },
  {
   "cell_type": "code",
   "execution_count": 15,
   "metadata": {
    "collapsed": true
   },
   "outputs": [],
   "source": [
    "clip = droide.dialogGetInput(\"Escribe algo\")"
   ]
  },
  {
   "cell_type": "markdown",
   "metadata": {},
   "source": [
    "La siguiente instruccion debe de mostrarles el texto que copiaron"
   ]
  },
  {
   "cell_type": "code",
   "execution_count": 16,
   "metadata": {
    "collapsed": false
   },
   "outputs": [
    {
     "name": "stdout",
     "output_type": "stream",
     "text": [
      "anny\n"
     ]
    }
   ],
   "source": [
    "print droide.getClipboard().result"
   ]
  },
  {
   "cell_type": "markdown",
   "metadata": {},
   "source": [
    "Las siguientes instrucciones colocan un nuevo contenido en el clipboard y abre un dialogo en el dispositivo pidiendo que lo copien. Interactuen con el dispositivo y copien el contenido del clipboard en la caja de texto que aparecera."
   ]
  },
  {
   "cell_type": "code",
   "execution_count": 17,
   "metadata": {
    "collapsed": false
   },
   "outputs": [],
   "source": [
    "previo=droide.getClipboard().result;\n",
    "mensaje='Hola clase, pongan atencion';\n",
    "\n",
    "droide.setClipboard(mensaje)\n",
    "pegar = droide.dialogGetInput(\"Pega el contenido del clipboard aqui\")"
   ]
  },
  {
   "cell_type": "code",
   "execution_count": 18,
   "metadata": {
    "collapsed": false
   },
   "outputs": [
    {
     "name": "stdout",
     "output_type": "stream",
     "text": [
      "Hola clase, pongan atencion\n"
     ]
    }
   ],
   "source": [
    "# mostremos el resultado de pegar el contenido del clipboard\n",
    "print pegar.result"
   ]
  },
  {
   "cell_type": "code",
   "execution_count": 19,
   "metadata": {
    "collapsed": false
   },
   "outputs": [],
   "source": [
    "eco = droide.getClipboard().result"
   ]
  },
  {
   "cell_type": "code",
   "execution_count": 20,
   "metadata": {
    "collapsed": false
   },
   "outputs": [
    {
     "name": "stdout",
     "output_type": "stream",
     "text": [
      "Hola clase, pongan atencion\n",
      "anny\n",
      "Hola clase, pongan atencion\n"
     ]
    }
   ],
   "source": [
    "print eco\n",
    "print clip.result\n",
    "print pegar.result"
   ]
  },
  {
   "cell_type": "code",
   "execution_count": null,
   "metadata": {
    "collapsed": true
   },
   "outputs": [],
   "source": []
  }
 ],
 "metadata": {
  "kernelspec": {
   "display_name": "Python 2",
   "language": "python",
   "name": "python2"
  },
  "language_info": {
   "codemirror_mode": {
    "name": "ipython",
    "version": 2
   },
   "file_extension": ".py",
   "mimetype": "text/x-python",
   "name": "python",
   "nbconvert_exporter": "python",
   "pygments_lexer": "ipython2",
   "version": "2.7.10"
  }
 },
 "nbformat": 4,
 "nbformat_minor": 0
}

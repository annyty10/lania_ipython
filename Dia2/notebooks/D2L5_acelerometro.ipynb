{
 "cells": [
  {
   "cell_type": "markdown",
   "metadata": {},
   "source": [
    "# Dia 2, Libreta 5 acelerometro\n",
    "\n",
    "En esta libreta accederemos a los datos de su acelerometro. Nuevamente importen el modulo y creen un objeto `android`."
   ]
  },
  {
   "cell_type": "code",
   "execution_count": 40,
   "metadata": {
    "collapsed": true
   },
   "outputs": [],
   "source": [
    "import android\n",
    "droide=android.Android()"
   ]
  },
  {
   "cell_type": "code",
   "execution_count": 41,
   "metadata": {
    "collapsed": false
   },
   "outputs": [
    {
     "data": {
      "text/plain": [
       "Result(id=0, result=None, error=None)"
      ]
     },
     "execution_count": 41,
     "metadata": {},
     "output_type": "execute_result"
    }
   ],
   "source": [
    "droide.ttsSpeak(\"hola bato\")"
   ]
  },
  {
   "cell_type": "code",
   "execution_count": 4,
   "metadata": {
    "collapsed": true
   },
   "outputs": [],
   "source": [
    "# 100ms entre lecturas\n",
    "dt = 100\n",
    "# duracion de la muestras\n",
    "fin = 3000"
   ]
  },
  {
   "cell_type": "markdown",
   "metadata": {},
   "source": [
    "Inicializamos el tiempo de censado e iniciamos censado en el dispositivo"
   ]
  },
  {
   "cell_type": "code",
   "execution_count": 10,
   "metadata": {
    "collapsed": false
   },
   "outputs": [
    {
     "data": {
      "text/plain": [
       "Result(id=35, result=None, error=None)"
      ]
     },
     "execution_count": 10,
     "metadata": {},
     "output_type": "execute_result"
    }
   ],
   "source": [
    "tiempo = 0\n",
    "droide.startSensingTimed(2,dt)"
   ]
  },
  {
   "cell_type": "markdown",
   "metadata": {},
   "source": [
    "La siguiente instruccion regresa los valores de la lectura del acelerometro:"
   ]
  },
  {
   "cell_type": "code",
   "execution_count": 11,
   "metadata": {
    "collapsed": false
   },
   "outputs": [
    {
     "data": {
      "text/plain": [
       "Result(id=36, result=[1.7812861, 5.9759274, 7.4507556], error=None)"
      ]
     },
     "execution_count": 11,
     "metadata": {},
     "output_type": "execute_result"
    }
   ],
   "source": [
    "droide.sensorsReadAccelerometer()"
   ]
  },
  {
   "cell_type": "markdown",
   "metadata": {},
   "source": [
    "Guardaremos estas lecturas en una variable que contendra los datos"
   ]
  },
  {
   "cell_type": "code",
   "execution_count": 7,
   "metadata": {
    "collapsed": true
   },
   "outputs": [],
   "source": [
    "lecturas = []"
   ]
  },
  {
   "cell_type": "markdown",
   "metadata": {},
   "source": [
    "Ahora censamos hasta que el tiempo alcance el tiempo de sensado"
   ]
  },
  {
   "cell_type": "code",
   "execution_count": 12,
   "metadata": {
    "collapsed": false
   },
   "outputs": [],
   "source": [
    "import time\n",
    "while tiempo <= fin:\n",
    "    lecturas.append(droide.sensorsReadAccelerometer().result)\n",
    "    time.sleep(dt/1000.0)\n",
    "    tiempo += dt\n",
    "    \n",
    "droide.stopSensing();"
   ]
  },
  {
   "cell_type": "code",
   "execution_count": 18,
   "metadata": {
    "collapsed": false
   },
   "outputs": [
    {
     "data": {
      "text/plain": [
       "[[0.32561144, 6.9527617, 6.895301],\n",
       " [0.24899697, 7.029376, 6.83784],\n",
       " [0.47884035, 6.933608, 6.933608],\n",
       " [0.1340753, 7.067683, 6.8761473],\n",
       " [0.34476504, 6.991069, 6.8186865],\n",
       " [0.36391866, 6.895301, 6.8569937],\n",
       " [0.30645782, 6.9719152, 6.7612257],\n",
       " [0.30645782, 6.9719152, 6.8569937],\n",
       " [0.24899697, 7.0102224, 6.588843],\n",
       " [0.38307226, 6.9144545, 6.8761473],\n",
       " [0.59376204, 6.7229185, 6.9527617],\n",
       " [0.19153613, 7.029376, 6.9527617],\n",
       " [0.5746084, 6.83784, 6.9719152],\n",
       " [0.34476504, 6.991069, 6.83784],\n",
       " [0.4405331, 7.0102224, 6.8186865],\n",
       " [0.61291564, 6.933608, 6.895301],\n",
       " [0.6895301, 6.799533, 7.067683],\n",
       " [0.4405331, 6.991069, 6.83784],\n",
       " [0.5363012, 6.9144545, 6.9144545],\n",
       " [0.51714754, 6.9527617, 6.8761473],\n",
       " [0.51714754, 6.9144545, 6.83784],\n",
       " [0.47884035, 6.9527617, 6.8761473],\n",
       " [0.49799395, 6.9144545, 6.9527617],\n",
       " [0.30645782, 7.029376, 6.8569937],\n",
       " [0.47884035, 6.895301, 6.8569937],\n",
       " [0.4213795, 6.9719152, 6.8761473],\n",
       " [0.4405331, 6.9527617, 6.933608],\n",
       " [0.4405331, 6.933608, 6.8186865],\n",
       " [0.4213795, 6.9719152, 6.8761473],\n",
       " [0.36391866, 6.991069, 6.7612257],\n",
       " [0.4213795, 6.9719152, 6.9144545],\n",
       " [8.00621, 9.193734, -4.309563],\n",
       " [13.541605, 0.842759, -0.15322891],\n",
       " [-2.2601264, 4.156334, 14.403518],\n",
       " [13.752295, 6.3589997, -6.4547677],\n",
       " [10.189722, 0.22984336, 7.967903],\n",
       " [-2.6240451, 6.4164605, 14.288596],\n",
       " [17.525557, 4.5777135, -3.2369606],\n",
       " [5.841852, 2.719813, 7.0102224],\n",
       " [0.15322891, 7.8146744, 11.089942],\n",
       " [7.565677, 8.389283, -3.1986535],\n",
       " [1.3790601, 7.8912888, 3.217807],\n",
       " [2.1260512, 0.5554548, 3.6008794],\n",
       " [5.4779334, 0.6703765, 15.820885],\n",
       " [4.711789, 1.3215994, 10.879252],\n",
       " [3.7732618, 1.9536686, 7.8529816],\n",
       " [3.8881836, 3.217807, 7.3166804],\n",
       " [4.309563, 2.4708161, 8.236053],\n",
       " [5.3438582, 0.40222588, 7.833828],\n",
       " [5.995081, -1.0534488, 8.810662],\n",
       " [3.8498764, 0.40222588, 7.699753],\n",
       " [0.2873042, 3.064578, 7.7572136],\n",
       " [-2.2218192, 3.86903, 9.653421],\n",
       " [-2.6623523, 2.3558946, 9.232041],\n",
       " [-3.5051112, 2.030283, 11.128249],\n",
       " [-2.7389667, 2.6240451, 9.787497],\n",
       " [-2.2026656, 2.0111294, 9.749189],\n",
       " [-2.0685902, 2.6623523, 9.232041],\n",
       " [-2.3558946, 2.6623523, 7.52737],\n",
       " [-3.6966474, 2.3942018, 10.419566],\n",
       " [-2.6240451, 2.1452048, 9.136273],\n",
       " [-2.336741, 2.1643584, 9.040505]]"
      ]
     },
     "execution_count": 18,
     "metadata": {},
     "output_type": "execute_result"
    }
   ],
   "source": [
    "lecturas"
   ]
  },
  {
   "cell_type": "code",
   "execution_count": 19,
   "metadata": {
    "collapsed": true
   },
   "outputs": [],
   "source": [
    "import csv"
   ]
  },
  {
   "cell_type": "code",
   "execution_count": 49,
   "metadata": {
    "collapsed": false
   },
   "outputs": [
    {
     "data": {
      "text/plain": [
       "[[0.32561144, 6.9527617, 6.895301],\n",
       " [0.24899697, 7.029376, 6.83784],\n",
       " [0.47884035, 6.933608, 6.933608],\n",
       " [0.1340753, 7.067683, 6.8761473],\n",
       " [0.34476504, 6.991069, 6.8186865],\n",
       " [0.36391866, 6.895301, 6.8569937],\n",
       " [0.30645782, 6.9719152, 6.7612257],\n",
       " [0.30645782, 6.9719152, 6.8569937],\n",
       " [0.24899697, 7.0102224, 6.588843],\n",
       " [0.38307226, 6.9144545, 6.8761473],\n",
       " [0.59376204, 6.7229185, 6.9527617],\n",
       " [0.19153613, 7.029376, 6.9527617],\n",
       " [0.5746084, 6.83784, 6.9719152],\n",
       " [0.34476504, 6.991069, 6.83784],\n",
       " [0.4405331, 7.0102224, 6.8186865],\n",
       " [0.61291564, 6.933608, 6.895301],\n",
       " [0.6895301, 6.799533, 7.067683],\n",
       " [0.4405331, 6.991069, 6.83784],\n",
       " [0.5363012, 6.9144545, 6.9144545],\n",
       " [0.51714754, 6.9527617, 6.8761473],\n",
       " [0.51714754, 6.9144545, 6.83784],\n",
       " [0.47884035, 6.9527617, 6.8761473],\n",
       " [0.49799395, 6.9144545, 6.9527617],\n",
       " [0.30645782, 7.029376, 6.8569937],\n",
       " [0.47884035, 6.895301, 6.8569937],\n",
       " [0.4213795, 6.9719152, 6.8761473],\n",
       " [0.4405331, 6.9527617, 6.933608],\n",
       " [0.4405331, 6.933608, 6.8186865],\n",
       " [0.4213795, 6.9719152, 6.8761473],\n",
       " [0.36391866, 6.991069, 6.7612257],\n",
       " [0.4213795, 6.9719152, 6.9144545],\n",
       " [8.00621, 9.193734, -4.309563],\n",
       " [13.541605, 0.842759, -0.15322891],\n",
       " [-2.2601264, 4.156334, 14.403518],\n",
       " [13.752295, 6.3589997, -6.4547677],\n",
       " [10.189722, 0.22984336, 7.967903],\n",
       " [-2.6240451, 6.4164605, 14.288596],\n",
       " [17.525557, 4.5777135, -3.2369606],\n",
       " [5.841852, 2.719813, 7.0102224],\n",
       " [0.15322891, 7.8146744, 11.089942],\n",
       " [7.565677, 8.389283, -3.1986535],\n",
       " [1.3790601, 7.8912888, 3.217807],\n",
       " [2.1260512, 0.5554548, 3.6008794],\n",
       " [5.4779334, 0.6703765, 15.820885],\n",
       " [4.711789, 1.3215994, 10.879252],\n",
       " [3.7732618, 1.9536686, 7.8529816],\n",
       " [3.8881836, 3.217807, 7.3166804],\n",
       " [4.309563, 2.4708161, 8.236053],\n",
       " [5.3438582, 0.40222588, 7.833828],\n",
       " [5.995081, -1.0534488, 8.810662],\n",
       " [3.8498764, 0.40222588, 7.699753],\n",
       " [0.2873042, 3.064578, 7.7572136],\n",
       " [-2.2218192, 3.86903, 9.653421],\n",
       " [-2.6623523, 2.3558946, 9.232041],\n",
       " [-3.5051112, 2.030283, 11.128249],\n",
       " [-2.7389667, 2.6240451, 9.787497],\n",
       " [-2.2026656, 2.0111294, 9.749189],\n",
       " [-2.0685902, 2.6623523, 9.232041],\n",
       " [-2.3558946, 2.6623523, 7.52737],\n",
       " [-3.6966474, 2.3942018, 10.419566],\n",
       " [-2.6240451, 2.1452048, 9.136273],\n",
       " [-2.336741, 2.1643584, 9.040505]]"
      ]
     },
     "execution_count": 49,
     "metadata": {},
     "output_type": "execute_result"
    }
   ],
   "source": [
    "lecturas"
   ]
  },
  {
   "cell_type": "raw",
   "metadata": {},
   "source": []
  },
  {
   "cell_type": "code",
   "execution_count": 50,
   "metadata": {
    "collapsed": true
   },
   "outputs": [],
   "source": [
    "nombreArchivo = droide.dialogGetInput(\"Hola!\", \"Como se llamara el archivo?\")"
   ]
  },
  {
   "cell_type": "code",
   "execution_count": 51,
   "metadata": {
    "collapsed": false
   },
   "outputs": [],
   "source": [
    "with open(nombreArchivo.result + '.csv', 'w') as fp:\n",
    "    \n",
    "    a = csv.writer(fp,delimiter=',')\n",
    "    a.writerows(lecturas)"
   ]
  },
  {
   "cell_type": "code",
   "execution_count": null,
   "metadata": {
    "collapsed": true
   },
   "outputs": [],
   "source": [
    "# %load prueba2.csv\n",
    "0.32561144,6.9527617,6.895301\n",
    "\n",
    "0.24899697,7.029376,6.83784\n",
    "\n",
    "0.47884035,6.933608,6.933608\n",
    "\n",
    "0.1340753,7.067683,6.8761473\n",
    "\n",
    "0.34476504,6.991069,6.8186865\n",
    "\n",
    "0.36391866,6.895301,6.8569937\n",
    "\n",
    "0.30645782,6.9719152,6.7612257\n",
    "\n",
    "0.30645782,6.9719152,6.8569937\n",
    "\n",
    "0.24899697,7.0102224,6.588843\n",
    "\n",
    "0.38307226,6.9144545,6.8761473\n",
    "\n",
    "0.59376204,6.7229185,6.9527617\n",
    "\n",
    "0.19153613,7.029376,6.9527617\n",
    "\n",
    "0.5746084,6.83784,6.9719152\n",
    "\n",
    "0.34476504,6.991069,6.83784\n",
    "\n",
    "0.4405331,7.0102224,6.8186865\n",
    "\n",
    "0.61291564,6.933608,6.895301\n",
    "\n",
    "0.6895301,6.799533,7.067683\n",
    "\n",
    "0.4405331,6.991069,6.83784\n",
    "\n",
    "0.5363012,6.9144545,6.9144545\n",
    "\n",
    "0.51714754,6.9527617,6.8761473\n",
    "\n",
    "0.51714754,6.9144545,6.83784\n",
    "\n",
    "0.47884035,6.9527617,6.8761473\n",
    "\n",
    "0.49799395,6.9144545,6.9527617\n",
    "\n",
    "0.30645782,7.029376,6.8569937\n",
    "\n",
    "0.47884035,6.895301,6.8569937\n",
    "\n",
    "0.4213795,6.9719152,6.8761473\n",
    "\n",
    "0.4405331,6.9527617,6.933608\n",
    "\n",
    "0.4405331,6.933608,6.8186865\n",
    "\n",
    "0.4213795,6.9719152,6.8761473\n",
    "\n",
    "0.36391866,6.991069,6.7612257\n",
    "\n",
    "0.4213795,6.9719152,6.9144545\n",
    "\n",
    "8.00621,9.193734,-4.309563\n",
    "\n",
    "13.541605,0.842759,-0.15322891\n",
    "\n",
    "-2.2601264,4.156334,14.403518\n",
    "\n",
    "13.752295,6.3589997,-6.4547677\n",
    "\n",
    "10.189722,0.22984336,7.967903\n",
    "\n",
    "-2.6240451,6.4164605,14.288596\n",
    "\n",
    "17.525557,4.5777135,-3.2369606\n",
    "\n",
    "5.841852,2.719813,7.0102224\n",
    "\n",
    "0.15322891,7.8146744,11.089942\n",
    "\n",
    "7.565677,8.389283,-3.1986535\n",
    "\n",
    "1.3790601,7.8912888,3.217807\n",
    "\n",
    "2.1260512,0.5554548,3.6008794\n",
    "\n",
    "5.4779334,0.6703765,15.820885\n",
    "\n",
    "4.711789,1.3215994,10.879252\n",
    "\n",
    "3.7732618,1.9536686,7.8529816\n",
    "\n",
    "3.8881836,3.217807,7.3166804\n",
    "\n",
    "4.309563,2.4708161,8.236053\n",
    "\n",
    "5.3438582,0.40222588,7.833828\n",
    "\n",
    "5.995081,-1.0534488,8.810662\n",
    "\n",
    "3.8498764,0.40222588,7.699753\n",
    "\n",
    "0.2873042,3.064578,7.7572136\n",
    "\n",
    "-2.2218192,3.86903,9.653421\n",
    "\n",
    "-2.6623523,2.3558946,9.232041\n",
    "\n",
    "-3.5051112,2.030283,11.128249\n",
    "\n",
    "-2.7389667,2.6240451,9.787497\n",
    "\n",
    "-2.2026656,2.0111294,9.749189\n",
    "\n",
    "-2.0685902,2.6623523,9.232041\n",
    "\n",
    "-2.3558946,2.6623523,7.52737\n",
    "\n",
    "-3.6966474,2.3942018,10.419566\n",
    "\n",
    "-2.6240451,2.1452048,9.136273\n",
    "\n",
    "-2.336741,2.1643584,9.040505\n",
    "\n"
   ]
  },
  {
   "cell_type": "code",
   "execution_count": null,
   "metadata": {
    "collapsed": false
   },
   "outputs": [],
   "source": [
    "# %load datos.csv\n",
    "0.32561144,6.9527617,6.895301\n",
    "\n",
    "0.24899697,7.029376,6.83784\n",
    "\n",
    "0.47884035,6.933608,6.933608\n",
    "\n",
    "0.1340753,7.067683,6.8761473\n",
    "\n",
    "0.34476504,6.991069,6.8186865\n",
    "\n",
    "0.36391866,6.895301,6.8569937\n",
    "\n",
    "0.30645782,6.9719152,6.7612257\n",
    "\n",
    "0.30645782,6.9719152,6.8569937\n",
    "\n",
    "0.24899697,7.0102224,6.588843\n",
    "\n",
    "0.38307226,6.9144545,6.8761473\n",
    "\n",
    "0.59376204,6.7229185,6.9527617\n",
    "\n",
    "0.19153613,7.029376,6.9527617\n",
    "\n",
    "0.5746084,6.83784,6.9719152\n",
    "\n",
    "0.34476504,6.991069,6.83784\n",
    "\n",
    "0.4405331,7.0102224,6.8186865\n",
    "\n",
    "0.61291564,6.933608,6.895301\n",
    "\n",
    "0.6895301,6.799533,7.067683\n",
    "\n",
    "0.4405331,6.991069,6.83784\n",
    "\n",
    "0.5363012,6.9144545,6.9144545\n",
    "\n",
    "0.51714754,6.9527617,6.8761473\n",
    "\n",
    "0.51714754,6.9144545,6.83784\n",
    "\n",
    "0.47884035,6.9527617,6.8761473\n",
    "\n",
    "0.49799395,6.9144545,6.9527617\n",
    "\n",
    "0.30645782,7.029376,6.8569937\n",
    "\n",
    "0.47884035,6.895301,6.8569937\n",
    "\n",
    "0.4213795,6.9719152,6.8761473\n",
    "\n",
    "0.4405331,6.9527617,6.933608\n",
    "\n",
    "0.4405331,6.933608,6.8186865\n",
    "\n",
    "0.4213795,6.9719152,6.8761473\n",
    "\n",
    "0.36391866,6.991069,6.7612257\n",
    "\n",
    "0.4213795,6.9719152,6.9144545\n",
    "\n",
    "8.00621,9.193734,-4.309563\n",
    "\n",
    "13.541605,0.842759,-0.15322891\n",
    "\n",
    "-2.2601264,4.156334,14.403518\n",
    "\n",
    "13.752295,6.3589997,-6.4547677\n",
    "\n",
    "10.189722,0.22984336,7.967903\n",
    "\n",
    "-2.6240451,6.4164605,14.288596\n",
    "\n",
    "17.525557,4.5777135,-3.2369606\n",
    "\n",
    "5.841852,2.719813,7.0102224\n",
    "\n",
    "0.15322891,7.8146744,11.089942\n",
    "\n",
    "7.565677,8.389283,-3.1986535\n",
    "\n",
    "1.3790601,7.8912888,3.217807\n",
    "\n",
    "2.1260512,0.5554548,3.6008794\n",
    "\n",
    "5.4779334,0.6703765,15.820885\n",
    "\n",
    "4.711789,1.3215994,10.879252\n",
    "\n",
    "3.7732618,1.9536686,7.8529816\n",
    "\n",
    "3.8881836,3.217807,7.3166804\n",
    "\n",
    "4.309563,2.4708161,8.236053\n",
    "\n",
    "5.3438582,0.40222588,7.833828\n",
    "\n",
    "5.995081,-1.0534488,8.810662\n",
    "\n",
    "3.8498764,0.40222588,7.699753\n",
    "\n",
    "0.2873042,3.064578,7.7572136\n",
    "\n",
    "-2.2218192,3.86903,9.653421\n",
    "\n",
    "-2.6623523,2.3558946,9.232041\n",
    "\n",
    "-3.5051112,2.030283,11.128249\n",
    "\n",
    "-2.7389667,2.6240451,9.787497\n",
    "\n",
    "-2.2026656,2.0111294,9.749189\n",
    "\n",
    "-2.0685902,2.6623523,9.232041\n",
    "\n",
    "-2.3558946,2.6623523,7.52737\n",
    "\n",
    "-3.6966474,2.3942018,10.419566\n",
    "\n",
    "-2.6240451,2.1452048,9.136273\n",
    "\n",
    "-2.336741,2.1643584,9.040505\n",
    "\n"
   ]
  },
  {
   "cell_type": "code",
   "execution_count": 60,
   "metadata": {
    "collapsed": false
   },
   "outputs": [
    {
     "name": "stdout",
     "output_type": "stream",
     "text": [
      "Overwriting Acelerometro.py\n"
     ]
    }
   ],
   "source": [
    "%%file Acelerometro.py\n",
    "# este es mi script para subirlo al dispositivo\n",
    "import android\n",
    "import time\n",
    "import csv\n",
    "\n",
    "droide=android.Android()\n",
    "\n",
    "# 100ms entre lecturas\n",
    "dt = 100\n",
    "# duracion de la muestras\n",
    "fin = 5000\n",
    "\n",
    "nombreArchivo = droide.dialogGetInput(\"Hola!\", \"Como se llamara el archivo?\")\n",
    "droide.ttsSpeak(\"Empezando recorrido\")\n",
    "tiempo = 0\n",
    "droide.startSensingTimed(2,dt)\n",
    "droide.sensorsReadAccelerometer()\n",
    "lecturas = []\n",
    "\n",
    "while tiempo <= fin:\n",
    "    lecturas.append(droide.sensorsReadAccelerometer().result)\n",
    "    time.sleep(dt/1000.0)\n",
    "    tiempo += dt\n",
    "    \n",
    "droide.stopSensing();\n",
    "\n",
    "with open(nombreArchivo.result + '.csv', 'w') as fp:\n",
    "    a = csv.writer(fp,delimiter=',')\n",
    "    a.writerows(lecturas)\n",
    "    \n",
    "droide.ttsSpeak(\"Termino recorrido\")"
   ]
  },
  {
   "cell_type": "markdown",
   "metadata": {},
   "source": [
    "Para copiarlo en el celular o dispositivo"
   ]
  },
  {
   "cell_type": "code",
   "execution_count": 61,
   "metadata": {
    "collapsed": false
   },
   "outputs": [
    {
     "name": "stderr",
     "output_type": "stream",
     "text": [
      "9 KB/s (732 bytes in 0.072s)\n"
     ]
    }
   ],
   "source": [
    "!adb push Acelerometro.py /sdcard/sl4a/scripts"
   ]
  },
  {
   "cell_type": "markdown",
   "metadata": {},
   "source": [
    "Para subirlo de regreso a mi carpeta local en la computadora"
   ]
  },
  {
   "cell_type": "code",
   "execution_count": 62,
   "metadata": {
    "collapsed": false
   },
   "outputs": [
    {
     "name": "stderr",
     "output_type": "stream",
     "text": [
      "525 KB/s (2693 bytes in 0.005s)\n"
     ]
    }
   ],
   "source": [
    "!adb pull /sdcard/sl4a/datosfinal.csv"
   ]
  },
  {
   "cell_type": "markdown",
   "metadata": {},
   "source": [
    "Para leer el archivo que acabo de subir"
   ]
  },
  {
   "cell_type": "code",
   "execution_count": 63,
   "metadata": {
    "collapsed": true
   },
   "outputs": [],
   "source": [
    "df = pd.read_csv('datos.csv',header=0)"
   ]
  },
  {
   "cell_type": "code",
   "execution_count": 57,
   "metadata": {
    "collapsed": true
   },
   "outputs": [],
   "source": [
    "import pandas as pd\n",
    "%matplotlib inline"
   ]
  },
  {
   "cell_type": "markdown",
   "metadata": {},
   "source": [
    "Esta lectura es directa del arreglo"
   ]
  },
  {
   "cell_type": "code",
   "execution_count": 15,
   "metadata": {
    "collapsed": false
   },
   "outputs": [],
   "source": [
    "df = pd.DataFrame(lecturas, columns=['x','y','z'])"
   ]
  },
  {
   "cell_type": "code",
   "execution_count": 64,
   "metadata": {
    "collapsed": false
   },
   "outputs": [
    {
     "name": "stdout",
     "output_type": "stream",
     "text": [
      "<class 'pandas.core.frame.DataFrame'>\n",
      "Int64Index: 50 entries, 0 to 49\n",
      "Data columns (total 3 columns):\n",
      "Unnamed: 0    50 non-null float64\n",
      "Unnamed: 1    50 non-null float64\n",
      "Unnamed: 2    50 non-null float64\n",
      "dtypes: float64(3)\n",
      "memory usage: 1.6 KB\n"
     ]
    }
   ],
   "source": [
    "df.info()"
   ]
  },
  {
   "cell_type": "code",
   "execution_count": 65,
   "metadata": {
    "collapsed": false
   },
   "outputs": [
    {
     "data": {
      "text/plain": [
       "<matplotlib.axes._subplots.AxesSubplot at 0xbfebf98>"
      ]
     },
     "execution_count": 65,
     "metadata": {},
     "output_type": "execute_result"
    },
    {
     "data": {
      "image/png": "[encoded data removed]",
      "text/plain": [
       "<matplotlib.figure.Figure at 0xc0f36d8>"
      ]
     },
     "metadata": {},
     "output_type": "display_data"
    }
   ],
   "source": [
    "df.plot()"
   ]
  },
  {
   "cell_type": "markdown",
   "metadata": {},
   "source": [
    "# Ejercicio\n",
    "\n",
    "Escriban un script que lleve a cabo unicamente la lectura de los datos del acelerometro de su dispositivo y copienlo en el folder correspondiente para ejecutarlo desde sus dispositivos."
   ]
  }
 ],
 "metadata": {
  "kernelspec": {
   "display_name": "Python 2",
   "language": "python",
   "name": "python2"
  },
  "language_info": {
   "codemirror_mode": {
    "name": "ipython",
    "version": 2
   },
   "file_extension": ".py",
   "mimetype": "text/x-python",
   "name": "python",
   "nbconvert_exporter": "python",
   "pygments_lexer": "ipython2",
   "version": "2.7.10"
  }
 },
 "nbformat": 4,
 "nbformat_minor": 0
}
